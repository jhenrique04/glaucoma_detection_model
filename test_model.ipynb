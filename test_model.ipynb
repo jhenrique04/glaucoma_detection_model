{
 "cells": [
  {
   "cell_type": "code",
   "execution_count": 1,
   "metadata": {},
   "outputs": [
    {
     "name": "stderr",
     "output_type": "stream",
     "text": [
      "2024-01-29 19:52:11.027082: I external/local_tsl/tsl/cuda/cudart_stub.cc:31] Could not find cuda drivers on your machine, GPU will not be used.\n",
      "2024-01-29 19:52:11.066476: E external/local_xla/xla/stream_executor/cuda/cuda_dnn.cc:9261] Unable to register cuDNN factory: Attempting to register factory for plugin cuDNN when one has already been registered\n",
      "2024-01-29 19:52:11.066574: E external/local_xla/xla/stream_executor/cuda/cuda_fft.cc:607] Unable to register cuFFT factory: Attempting to register factory for plugin cuFFT when one has already been registered\n",
      "2024-01-29 19:52:11.067951: E external/local_xla/xla/stream_executor/cuda/cuda_blas.cc:1515] Unable to register cuBLAS factory: Attempting to register factory for plugin cuBLAS when one has already been registered\n",
      "2024-01-29 19:52:11.074328: I external/local_tsl/tsl/cuda/cudart_stub.cc:31] Could not find cuda drivers on your machine, GPU will not be used.\n",
      "2024-01-29 19:52:11.074785: I tensorflow/core/platform/cpu_feature_guard.cc:182] This TensorFlow binary is optimized to use available CPU instructions in performance-critical operations.\n",
      "To enable the following instructions: AVX2 FMA, in other operations, rebuild TensorFlow with the appropriate compiler flags.\n",
      "2024-01-29 19:52:11.836660: W tensorflow/compiler/tf2tensorrt/utils/py_utils.cc:38] TF-TRT Warning: Could not find TensorRT\n"
     ]
    },
    {
     "name": "stdout",
     "output_type": "stream",
     "text": [
      "Found 130 validated image filenames belonging to 2 classes.\n"
     ]
    },
    {
     "name": "stderr",
     "output_type": "stream",
     "text": [
      "/tmp/ipykernel_127759/2616042136.py:66: UserWarning: `Model.predict_generator` is deprecated and will be removed in a future version. Please use `Model.predict`, which supports generators.\n",
      "  predictions = model.predict_generator(test_generator, steps=len(test_generator), verbose=1)\n"
     ]
    },
    {
     "name": "stdout",
     "output_type": "stream",
     "text": [
      "5/5 [==============================] - 10s 2s/step\n",
      "Accuracy: 0.7385\n",
      "F1 Score: 0.0000\n",
      "AUC: 0.5000\n"
     ]
    }
   ],
   "source": [
    "import os\n",
    "import numpy as np\n",
    "from keras.models import load_model\n",
    "from sklearn.metrics import accuracy_score, f1_score, roc_auc_score\n",
    "from keras.preprocessing.image import ImageDataGenerator\n",
    "import pandas as pd\n",
    "\n",
    "model = load_model('glaucoma_detection_model.h5')\n",
    "\n",
    "image_width = 224\n",
    "image_height = 224\n",
    "\n",
    "batch_size = 32\n",
    "\n",
    "test_datagen = ImageDataGenerator(rescale=1.0/255)\n",
    "\n",
    "positive_folder = 'Validation/Glaucoma_Positive'\n",
    "negative_folder = 'Validation/Glaucoma_Negative/'\n",
    "\n",
    "test_image_paths = []\n",
    "test_labels = []\n",
    "\n",
    "positive_image_paths = [os.path.join(positive_folder, filename) for filename in os.listdir(positive_folder)]\n",
    "test_image_paths.extend(positive_image_paths)\n",
    "test_labels.extend([1] * len(positive_image_paths))\n",
    "\n",
    "negative_image_paths = [os.path.join(negative_folder, filename) for filename in os.listdir(negative_folder)]\n",
    "test_image_paths.extend(negative_image_paths)\n",
    "test_labels.extend([0] * len(negative_image_paths))\n",
    "\n",
    "test_data = list(zip(test_image_paths, test_labels))\n",
    "\n",
    "np.random.shuffle(test_data)\n",
    "\n",
    "test_image_paths, test_labels = zip(*test_data)\n",
    "\n",
    "test_image_paths = np.array(test_image_paths)\n",
    "test_labels = np.array(test_labels)\n",
    "\n",
    "test_labels = test_labels.astype(str)\n",
    "\n",
    "test_generator = test_datagen.flow_from_dataframe(\n",
    "    dataframe=pd.DataFrame({'filename': test_image_paths, 'class': test_labels}),\n",
    "    x_col='filename',\n",
    "    y_col='class',\n",
    "    target_size=(image_width, image_height),\n",
    "    batch_size=batch_size,\n",
    "    class_mode='binary',\n",
    "    shuffle=False \n",
    ")\n",
    "\n",
    "predictions = model.predict_generator(test_generator, steps=len(test_generator), verbose=1)\n",
    "binary_predictions = (predictions > 0.5).astype(int)\n",
    "accuracy = accuracy_score(test_labels.astype(int), binary_predictions)\n",
    "f1 = f1_score(test_labels.astype(int), binary_predictions)\n",
    "roc_auc = roc_auc_score(test_labels.astype(int), predictions)\n",
    "\n",
    "print(f\"Accuracy: {accuracy:.4f}\")\n",
    "print(f\"F1 Score: {f1:.4f}\")\n",
    "print(f\"AUC: {roc_auc:.4f}\")"
   ]
  }
 ],
 "metadata": {
  "kernelspec": {
   "display_name": "myenv",
   "language": "python",
   "name": "python3"
  },
  "language_info": {
   "codemirror_mode": {
    "name": "ipython",
    "version": 3
   },
   "file_extension": ".py",
   "mimetype": "text/x-python",
   "name": "python",
   "nbconvert_exporter": "python",
   "pygments_lexer": "ipython3",
   "version": "3.11.5"
  }
 },
 "nbformat": 4,
 "nbformat_minor": 2
}
